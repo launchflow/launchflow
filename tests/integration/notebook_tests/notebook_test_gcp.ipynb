{
 "cells": [
  {
   "cell_type": "code",
   "execution_count": null,
   "id": "135adec0-d2b4-4c72-b29f-feb5eee1b483",
   "metadata": {},
   "outputs": [],
   "source": [
    "from collections import defaultdict\n",
    "import random\n",
    "import os\n",
    "import subprocess\n",
    "\n",
    "import launchflow as lf"
   ]
  },
  {
   "cell_type": "code",
   "execution_count": null,
   "id": "4c172b9a-3100-40a5-9a25-ef9e4fa721e2",
   "metadata": {},
   "outputs": [],
   "source": [
    "random_int = random.randint(1, 1000)\n",
    "environment_a = f\"test-env-{random_int}\"\n",
    "environment_b = f\"test-env-{random_int + 1}\"\n",
    "environments = [environment_a, environment_b]"
   ]
  },
  {
   "cell_type": "code",
   "execution_count": null,
   "id": "cc404a68-e7a2-4252-be28-858987fba4ce",
   "metadata": {},
   "outputs": [],
   "source": [
    "for env in environments:\n",
    "    subprocess.check_call(\n",
    "        f\"lf environments create {env} --env-type=development --cloud-provider=gcp -y\",\n",
    "        shell=True,\n",
    "        cwd=os.getcwd(),\n",
    "    )"
   ]
  },
  {
   "cell_type": "code",
   "execution_count": null,
   "id": "2b3dcb20-dcf0-4e22-8b97-ac69b3c5f486",
   "metadata": {},
   "outputs": [],
   "source": [
    "environment_resources = defaultdict(list)\n",
    "for env in environments:\n",
    "    lf.environment = env\n",
    "    environment_resources[env].append(lf.gcp.GCSBucket(f\"notebook-integration-test-gcs-bucket-{env}\"))\n",
    "    environment_resources[env].append(lf.gcp.CloudRun(\"fastapi-service\", dockerfile=\"Dockerfile\"))"
   ]
  },
  {
   "cell_type": "code",
   "execution_count": null,
   "id": "d40a8ba3-8cfb-48e5-824b-35623fac7019",
   "metadata": {},
   "outputs": [],
   "source": [
    "results = []\n",
    "\n",
    "for env in environments:\n",
    "    lf.environment = env\n",
    "    resources_to_create = environment_resources[env]\n",
    "    results.append(await lf.create(*resources_to_create, environment=env, prompt=False, verbose=False))\n",
    "\n",
    "assert not any(len(r.failed_plans) > 0 for r in results)"
   ]
  },
  {
   "cell_type": "code",
   "execution_count": null,
   "id": "e2de09ef-280b-4633-aa45-6fc065358149",
   "metadata": {},
   "outputs": [],
   "source": [
    "results = []\n",
    "\n",
    "for env in environments:\n",
    "    lf.environment = env\n",
    "    resources_to_destroy = environment_resources[env]\n",
    "    results.append(await lf.destroy(env, prompt=False, verbose=False))\n",
    "\n",
    "assert all(results)"
   ]
  },
  {
   "cell_type": "code",
   "execution_count": null,
   "id": "faa7a892-72d2-41ae-b570-7d4e254c5a38",
   "metadata": {},
   "outputs": [],
   "source": [
    "for env in environments:\n",
    "    subprocess.check_call(\n",
    "        f\"lf environments delete {env} -y\",\n",
    "        shell=True,\n",
    "        cwd=os.getcwd(),\n",
    "    )"
   ]
  }
 ],
 "metadata": {
  "kernelspec": {
   "display_name": "Python 3 (ipykernel)",
   "language": "python",
   "name": "python3"
  },
  "language_info": {
   "codemirror_mode": {
    "name": "ipython",
    "version": 3
   },
   "file_extension": ".py",
   "mimetype": "text/x-python",
   "name": "python",
   "nbconvert_exporter": "python",
   "pygments_lexer": "ipython3",
   "version": "3.11.8"
  }
 },
 "nbformat": 4,
 "nbformat_minor": 5
}
